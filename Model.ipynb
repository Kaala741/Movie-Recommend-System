{
 "cells": [
  {
   "cell_type": "code",
   "execution_count": null,
   "metadata": {},
   "outputs": [],
   "source": [
    "import torch\n",
    "from transformers import BertTokenizer, BertForSequenceClassification\n",
    "\n",
    "# Assuming 'bert_classifier.pth' is saved in the current directory\n",
    "\n",
    "# Load the pre-trained BERT model and tokenizer\n",
    "model_path = 'bert_classifier.pth'\n",
    "model = BertForSequenceClassification.from_pretrained('bert-base-uncased', num_labels=2)  # Assuming binary classification\n",
    "model.load_state_dict(torch.load(model_path, map_location=torch.device('cpu')))\n",
    "tokenizer = BertTokenizer.from_pretrained('bert-base-uncased')\n",
    "\n",
    "# Function to preprocess text and apply BERT model\n",
    "def predict(text, model, tokenizer):\n",
    "    # Tokenize input text\n",
    "    inputs = tokenizer(text, padding=True, truncation=True, return_tensors=\"pt\")\n",
    "    \n",
    "    # Forward pass through BERT model\n",
    "    outputs = model(**inputs)\n",
    "    \n",
    "    # Get prediction (assuming binary classification)\n",
    "    logits = outputs.logits\n",
    "    probabilities = torch.softmax(logits, dim=1)\n",
    "    \n",
    "    # Determine if it contains hate speech\n",
    "    label = torch.argmax(probabilities, dim=1).item()\n",
    "    if label == 1:\n",
    "        return \"Contains hate speech\"\n",
    "    else:\n",
    "        return \"Does not contain hate speech\"\n",
    "\n",
    "# Example preprocessed text\n",
    "preprocessed_text = \"i hate chocolate how can peopleff...ff' eat chovalgt\"\n",
    "\n",
    "# Apply preprocessing and get classification\n",
    "classification = predict(preprocessed_text, model, tokenizer)\n",
    "\n",
    "print(\"Classification:\", classification)"
   ]
  }
 ],
 "metadata": {
  "language_info": {
   "name": "python"
  }
 },
 "nbformat": 4,
 "nbformat_minor": 2
}
